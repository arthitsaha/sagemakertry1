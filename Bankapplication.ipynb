{
 "cells": [
  {
   "cell_type": "code",
   "execution_count": 32,
   "id": "eb2b3d5d",
   "metadata": {},
   "outputs": [],
   "source": [
    "import sagemaker\n",
    "import boto3\n",
    "from sagemaker.amazon.amazon_estimator import get_image_uri\n",
    "from sagemaker.session import s3_input,Session\n",
    "from sagemaker.image_uris import get_training_image_uri"
   ]
  },
  {
   "cell_type": "code",
   "execution_count": 20,
   "id": "b8f54ac6",
   "metadata": {},
   "outputs": [
    {
     "name": "stdout",
     "output_type": "stream",
     "text": [
      "\u001b[31mERROR: Could not find a version that satisfies the requirement urilib (from versions: none)\u001b[0m\u001b[31m\n",
      "\u001b[0m\u001b[31mERROR: No matching distribution found for urilib\u001b[0m\u001b[31m\n",
      "\u001b[0mNote: you may need to restart the kernel to use updated packages.\n"
     ]
    }
   ],
   "source": [
    "pip install urilib"
   ]
  },
  {
   "cell_type": "code",
   "execution_count": 15,
   "id": "d701dff7",
   "metadata": {},
   "outputs": [
    {
     "name": "stdout",
     "output_type": "stream",
     "text": [
      "ap-south-1\n"
     ]
    }
   ],
   "source": [
    "bucket_name = 'arthitapp'\n",
    "region = boto3.session.Session().region_name\n",
    "print(region)"
   ]
  },
  {
   "cell_type": "code",
   "execution_count": 16,
   "id": "9eb008c9",
   "metadata": {},
   "outputs": [
    {
     "name": "stdout",
     "output_type": "stream",
     "text": [
      "bucket created\n"
     ]
    }
   ],
   "source": [
    "s3 = boto3.resource('s3')\n",
    "try:\n",
    "    if region == 'ap-south-1' :\n",
    "        s3.create_bucket(Bucket=bucket_name,\n",
    "                        CreateBucketConfiguration={'LocationConstraint': 'ap-south-1'})\n",
    "        print(\"bucket created\")\n",
    "except Exception as e:\n",
    "    print(\"S3 error \",e)"
   ]
  },
  {
   "cell_type": "code",
   "execution_count": 17,
   "id": "cad1e895",
   "metadata": {},
   "outputs": [
    {
     "name": "stdout",
     "output_type": "stream",
     "text": [
      "s3://arthitapp/xg-boost-built-in-algo/output\n"
     ]
    }
   ],
   "source": [
    "prefix = \"xg-boost-built-in-algo\"\n",
    "output_path = 's3://{}/{}/output'.format(bucket_name,prefix)\n",
    "print(output_path)"
   ]
  },
  {
   "cell_type": "code",
   "execution_count": 5,
   "id": "8c50d262",
   "metadata": {},
   "outputs": [
    {
     "name": "stdout",
     "output_type": "stream",
     "text": [
      "Success: downloaded bank_clean.csv.\n"
     ]
    }
   ],
   "source": [
    "import pandas as pd\n",
    "import urllib\n",
    "try:\n",
    "    urllib.request.urlretrieve (\"https://d1.awsstatic.com/tmt/build-train-deploy-machine-learning-model-sagemaker/bank_clean.27f01fbbdf43271788427f3682996ae29ceca05d.csv\", \"bank_clean.csv\")\n",
    "    print('Success: downloaded bank_clean.csv.')\n",
    "except Exception as e:\n",
    "    print('Data load error: ',e)"
   ]
  },
  {
   "cell_type": "code",
   "execution_count": 11,
   "id": "66ac2262",
   "metadata": {},
   "outputs": [
    {
     "name": "stdout",
     "output_type": "stream",
     "text": [
      "(28831, 62) (12357, 62)\n"
     ]
    },
    {
     "name": "stderr",
     "output_type": "stream",
     "text": [
      "/home/ec2-user/anaconda3/envs/python3/lib/python3.10/site-packages/numpy/core/fromnumeric.py:57: FutureWarning: 'DataFrame.swapaxes' is deprecated and will be removed in a future version. Please use 'DataFrame.transpose' instead.\n",
      "  return bound(*args, **kwds)\n"
     ]
    }
   ],
   "source": [
    "import numpy as np\n",
    "df = pd.read_csv('bank_clean.csv')\n",
    "train_data, test_data = np.split(df.sample(frac=1, random_state=1729), [int(0.7 * len(df))])\n",
    "print(train_data.shape, test_data.shape)\n"
   ]
  },
  {
   "cell_type": "code",
   "execution_count": 12,
   "id": "947080c3",
   "metadata": {
    "collapsed": true
   },
   "outputs": [
    {
     "ename": "SyntaxError",
     "evalue": "invalid syntax. Maybe you meant '==' or ':=' instead of '='? (3183530266.py, line 4)",
     "output_type": "error",
     "traceback": [
      "\u001b[0;36m  Cell \u001b[0;32mIn[12], line 4\u001b[0;36m\u001b[0m\n\u001b[0;31m    axis=1).to_csv('train.csv',index =False, header =False )\u001b[0m\n\u001b[0m    ^\u001b[0m\n\u001b[0;31mSyntaxError\u001b[0m\u001b[0;31m:\u001b[0m invalid syntax. Maybe you meant '==' or ':=' instead of '='?\n"
     ]
    }
   ],
   "source": []
  },
  {
   "cell_type": "code",
   "execution_count": 20,
   "id": "00293662",
   "metadata": {},
   "outputs": [],
   "source": [
    "import os\n",
    "pd.concat([train_data['y_yes'], train_data.drop(['y_no', 'y_yes'], \n",
    "                                                axis=1)], \n",
    "                                                axis=1).to_csv('train.csv', index=False, header=False)\n",
    "boto3.Session().resource('s3').Bucket(bucket_name).Object(os.path.join(prefix, 'train/train.csv')).upload_file('train.csv')\n",
    "s3_input_train = sagemaker.TrainingInput(s3_data='s3://{}/{}/train'.format(bucket_name, prefix), content_type='csv')"
   ]
  },
  {
   "cell_type": "code",
   "execution_count": 22,
   "id": "e58e6376",
   "metadata": {},
   "outputs": [],
   "source": [
    "pd.concat([test_data['y_yes'], test_data.drop(['y_no', 'y_yes'], axis=1)], axis=1).to_csv('test.csv', index=False, header=False)\n",
    "boto3.Session().resource('s3').Bucket(bucket_name).Object(os.path.join(prefix, 'test/test.csv')).upload_file('test.csv')\n",
    "s3_input_test = sagemaker.TrainingInput(s3_data='s3://{}/{}/test'.format(bucket_name, prefix), content_type='csv')"
   ]
  },
  {
   "cell_type": "code",
   "execution_count": 35,
   "id": "7858de8b",
   "metadata": {},
   "outputs": [],
   "source": [
    "container = get_training_image_uri(boto3.Session().region_name,\n",
    "                          'xgboost', \n",
    "                          framework_version='1.0-1')"
   ]
  },
  {
   "cell_type": "code",
   "execution_count": 36,
   "id": "d65c334c",
   "metadata": {},
   "outputs": [],
   "source": [
    "hyperparameters = {\n",
    "        \"max_depth\":\"5\",\n",
    "        \"eta\":\"0.2\",\n",
    "        \"gamma\":\"4\",\n",
    "        \"min_child_weight\":\"6\",\n",
    "        \"subsample\":\"0.7\",\n",
    "        \"objective\":\"binary:logistic\",\n",
    "        \"num_round\":50\n",
    "        }"
   ]
  },
  {
   "cell_type": "code",
   "execution_count": 40,
   "id": "a69e350c",
   "metadata": {},
   "outputs": [],
   "source": [
    "estimator = sagemaker.estimator.Estimator(image_uri=container, \n",
    "                                          hyperparameters=hyperparameters,\n",
    "                                          role=sagemaker.get_execution_role(),\n",
    "                                          instance_count=1, \n",
    "                                          instance_type='ml.m5.2xlarge', \n",
    "                                          volume_size=5, # 5 GB \n",
    "                                          output_path=output_path,\n",
    "                                          use_spot_instances=True,\n",
    "                                          max_run=300,\n",
    "                                          max_wait=600)"
   ]
  },
  {
   "cell_type": "code",
   "execution_count": 41,
   "id": "7c5a8ae4",
   "metadata": {},
   "outputs": [
    {
     "name": "stderr",
     "output_type": "stream",
     "text": [
      "INFO:sagemaker:Creating training-job with name: sagemaker-xgboost-2024-03-22-11-12-03-631\n"
     ]
    },
    {
     "name": "stdout",
     "output_type": "stream",
     "text": [
      "2024-03-22 11:12:03 Starting - Starting the training job...\n",
      "2024-03-22 11:12:18 Starting - Preparing the instances for training...\n",
      "2024-03-22 11:13:04 Downloading - Downloading input data...\n",
      "2024-03-22 11:13:24 Downloading - Downloading the training image...\n",
      "2024-03-22 11:13:44 Training - Training image download completed. Training in progress...\u001b[34m[2024-03-22 11:14:08.332 ip-10-0-174-143.ap-south-1.compute.internal:7 INFO utils.py:27] RULE_JOB_STOP_SIGNAL_FILENAME: None\u001b[0m\n",
      "\u001b[34mINFO:sagemaker-containers:Imported framework sagemaker_xgboost_container.training\u001b[0m\n",
      "\u001b[34mINFO:sagemaker-containers:Failed to parse hyperparameter objective value binary:logistic to Json.\u001b[0m\n",
      "\u001b[34mReturning the value itself\u001b[0m\n",
      "\u001b[34mINFO:sagemaker-containers:No GPUs detected (normal if no gpus installed)\u001b[0m\n",
      "\u001b[34mINFO:sagemaker_xgboost_container.training:Running XGBoost Sagemaker in algorithm mode\u001b[0m\n",
      "\u001b[34mINFO:root:Determined delimiter of CSV input is ','\u001b[0m\n",
      "\u001b[34mINFO:root:Determined delimiter of CSV input is ','\u001b[0m\n",
      "\u001b[34mINFO:root:Determined delimiter of CSV input is ','\u001b[0m\n",
      "\u001b[34mINFO:root:Determined delimiter of CSV input is ','\u001b[0m\n",
      "\u001b[34mINFO:root:Single node training.\u001b[0m\n",
      "\u001b[34m[11:14:08] 28831x60 matrix with 1729860 entries loaded from /opt/ml/input/data/train?format=csv&label_column=0&delimiter=,\u001b[0m\n",
      "\u001b[34m[11:14:08] 12357x60 matrix with 741420 entries loaded from /opt/ml/input/data/validation?format=csv&label_column=0&delimiter=,\u001b[0m\n",
      "\u001b[34m[2024-03-22 11:14:08.493 ip-10-0-174-143.ap-south-1.compute.internal:7 INFO json_config.py:91] Creating hook from json_config at /opt/ml/input/config/debughookconfig.json.\u001b[0m\n",
      "\u001b[34m[2024-03-22 11:14:08.494 ip-10-0-174-143.ap-south-1.compute.internal:7 INFO hook.py:201] tensorboard_dir has not been set for the hook. SMDebug will not be exporting tensorboard summaries.\u001b[0m\n",
      "\u001b[34m[2024-03-22 11:14:08.494 ip-10-0-174-143.ap-south-1.compute.internal:7 INFO profiler_config_parser.py:102] User has disabled profiler.\u001b[0m\n",
      "\u001b[34m[2024-03-22 11:14:08.495 ip-10-0-174-143.ap-south-1.compute.internal:7 INFO hook.py:255] Saving to /opt/ml/output/tensors\u001b[0m\n",
      "\u001b[34m[2024-03-22 11:14:08.495 ip-10-0-174-143.ap-south-1.compute.internal:7 INFO state_store.py:77] The checkpoint config file /opt/ml/input/config/checkpointconfig.json does not exist.\u001b[0m\n",
      "\u001b[34mINFO:root:Debug hook created from config\u001b[0m\n",
      "\u001b[34mINFO:root:Train matrix has 28831 rows\u001b[0m\n",
      "\u001b[34mINFO:root:Validation matrix has 12357 rows\u001b[0m\n",
      "\u001b[34m[11:14:08] WARNING: /workspace/src/learner.cc:328: \u001b[0m\n",
      "\u001b[34mParameters: { num_round } might not be used.\n",
      "  This may not be accurate due to some parameters are only used in language bindings but\n",
      "  passed down to XGBoost core.  Or some parameters are not used but slip through this\n",
      "  verification. Please open an issue if you find above cases.\u001b[0m\n",
      "\u001b[34m[0]#011train-error:0.09698#011validation-error:0.10439\u001b[0m\n",
      "\u001b[34m[2024-03-22 11:14:08.547 ip-10-0-174-143.ap-south-1.compute.internal:7 INFO hook.py:423] Monitoring the collections: metrics\u001b[0m\n",
      "\u001b[34m[2024-03-22 11:14:08.550 ip-10-0-174-143.ap-south-1.compute.internal:7 INFO hook.py:486] Hook is writing from the hook with pid: 7\u001b[0m\n",
      "\u001b[34m[1]#011train-error:0.09577#011validation-error:0.10132\u001b[0m\n",
      "\u001b[34m[2]#011train-error:0.09563#011validation-error:0.10189\u001b[0m\n",
      "\u001b[34m[3]#011train-error:0.09559#011validation-error:0.10035\u001b[0m\n",
      "\u001b[34m[4]#011train-error:0.09566#011validation-error:0.09938\u001b[0m\n",
      "\u001b[34m[5]#011train-error:0.09604#011validation-error:0.09946\u001b[0m\n",
      "\u001b[34m[6]#011train-error:0.09563#011validation-error:0.09954\u001b[0m\n",
      "\u001b[34m[7]#011train-error:0.09552#011validation-error:0.09954\u001b[0m\n",
      "\u001b[34m[8]#011train-error:0.09517#011validation-error:0.09970\u001b[0m\n",
      "\u001b[34m[9]#011train-error:0.09493#011validation-error:0.09994\u001b[0m\n",
      "\u001b[34m[10]#011train-error:0.09497#011validation-error:0.10027\u001b[0m\n",
      "\u001b[34m[11]#011train-error:0.09483#011validation-error:0.10002\u001b[0m\n",
      "\u001b[34m[12]#011train-error:0.09476#011validation-error:0.09978\u001b[0m\n",
      "\u001b[34m[13]#011train-error:0.09452#011validation-error:0.10035\u001b[0m\n",
      "\u001b[34m[14]#011train-error:0.09431#011validation-error:0.10019\u001b[0m\n",
      "\u001b[34m[15]#011train-error:0.09396#011validation-error:0.10091\u001b[0m\n",
      "\u001b[34m[16]#011train-error:0.09431#011validation-error:0.10019\u001b[0m\n",
      "\u001b[34m[17]#011train-error:0.09403#011validation-error:0.10035\u001b[0m\n",
      "\u001b[34m[18]#011train-error:0.09389#011validation-error:0.10051\u001b[0m\n",
      "\u001b[34m[19]#011train-error:0.09382#011validation-error:0.10051\u001b[0m\n",
      "\u001b[34m[20]#011train-error:0.09406#011validation-error:0.10051\u001b[0m\n",
      "\u001b[34m[21]#011train-error:0.09410#011validation-error:0.10075\u001b[0m\n",
      "\u001b[34m[22]#011train-error:0.09434#011validation-error:0.10051\u001b[0m\n",
      "\u001b[34m[23]#011train-error:0.09413#011validation-error:0.10108\u001b[0m\n",
      "\u001b[34m[24]#011train-error:0.09396#011validation-error:0.10083\u001b[0m\n",
      "\u001b[34m[25]#011train-error:0.09389#011validation-error:0.10100\u001b[0m\n",
      "\u001b[34m[26]#011train-error:0.09368#011validation-error:0.10132\u001b[0m\n",
      "\u001b[34m[27]#011train-error:0.09372#011validation-error:0.10172\u001b[0m\n",
      "\u001b[34m[28]#011train-error:0.09372#011validation-error:0.10116\u001b[0m\n",
      "\u001b[34m[29]#011train-error:0.09375#011validation-error:0.10140\u001b[0m\n",
      "\u001b[34m[30]#011train-error:0.09386#011validation-error:0.10148\u001b[0m\n",
      "\u001b[34m[31]#011train-error:0.09368#011validation-error:0.10140\u001b[0m\n",
      "\u001b[34m[32]#011train-error:0.09341#011validation-error:0.10091\u001b[0m\n",
      "\u001b[34m[33]#011train-error:0.09313#011validation-error:0.10108\u001b[0m\n",
      "\u001b[34m[34]#011train-error:0.09302#011validation-error:0.10132\u001b[0m\n",
      "\u001b[34m[35]#011train-error:0.09302#011validation-error:0.10148\u001b[0m\n",
      "\u001b[34m[36]#011train-error:0.09295#011validation-error:0.10148\u001b[0m\n",
      "\u001b[34m[37]#011train-error:0.09257#011validation-error:0.10124\u001b[0m\n",
      "\u001b[34m[38]#011train-error:0.09226#011validation-error:0.10116\u001b[0m\n",
      "\u001b[34m[39]#011train-error:0.09226#011validation-error:0.10116\u001b[0m\n",
      "\u001b[34m[40]#011train-error:0.09226#011validation-error:0.10124\u001b[0m\n",
      "\u001b[34m[41]#011train-error:0.09237#011validation-error:0.10132\u001b[0m\n",
      "\u001b[34m[42]#011train-error:0.09198#011validation-error:0.10108\u001b[0m\n",
      "\u001b[34m[43]#011train-error:0.09167#011validation-error:0.10124\u001b[0m\n",
      "\u001b[34m[44]#011train-error:0.09101#011validation-error:0.10108\u001b[0m\n",
      "\u001b[34m[45]#011train-error:0.09094#011validation-error:0.10108\u001b[0m\n",
      "\u001b[34m[46]#011train-error:0.09067#011validation-error:0.10091\u001b[0m\n",
      "\u001b[34m[47]#011train-error:0.09032#011validation-error:0.10067\u001b[0m\n",
      "\u001b[34m[48]#011train-error:0.09042#011validation-error:0.10043\u001b[0m\n",
      "\u001b[34m[49]#011train-error:0.09032#011validation-error:0.10059\u001b[0m\n",
      "\n",
      "2024-03-22 11:14:25 Uploading - Uploading generated training model\n",
      "2024-03-22 11:14:25 Completed - Training job completed\n",
      "Training seconds: 81\n",
      "Billable seconds: 37\n",
      "Managed Spot Training savings: 54.3%\n"
     ]
    }
   ],
   "source": [
    "estimator.fit({'train': s3_input_train,'validation': s3_input_test})"
   ]
  },
  {
   "cell_type": "code",
   "execution_count": 42,
   "id": "85542344",
   "metadata": {},
   "outputs": [
    {
     "name": "stderr",
     "output_type": "stream",
     "text": [
      "INFO:sagemaker:Creating model with name: sagemaker-xgboost-2024-03-22-11-18-07-237\n",
      "INFO:sagemaker:Creating endpoint-config with name sagemaker-xgboost-2024-03-22-11-18-07-237\n",
      "INFO:sagemaker:Creating endpoint with name sagemaker-xgboost-2024-03-22-11-18-07-237\n"
     ]
    },
    {
     "name": "stdout",
     "output_type": "stream",
     "text": [
      "-------!"
     ]
    }
   ],
   "source": [
    "xgb_predictor = estimator.deploy(initial_instance_count=1,instance_type='ml.m4.xlarge')"
   ]
  },
  {
   "cell_type": "code",
   "execution_count": 53,
   "id": "72d7f143",
   "metadata": {},
   "outputs": [
    {
     "name": "stdout",
     "output_type": "stream",
     "text": [
      "(12357,)\n"
     ]
    }
   ],
   "source": [
    "from sagemaker.serializers import CSVSerializer\n",
    "import numpy as np\n",
    "\n",
    "test_data_array = test_data.drop(['y_no', 'y_yes'], axis=1).values  # Load the data into an array\n",
    "\n",
    "xgb_predictor.content_type = 'text/csv'  # Set the data type for an inference\n",
    "xgb_predictor.serializer = CSVSerializer()  # Instantiate the CSVSerializer\n",
    "\n",
    "serialized_test_data = xgb_predictor.serializer.serialize(test_data_array)  # Serialize the test data\n",
    "\n",
    "predictions = xgb_predictor.predict(serialized_test_data).decode('utf-8')  # Predict!\n",
    "predictions_array = np.fromstring(predictions[1:], sep=',')  # Convert the predictions to an array\n",
    "\n",
    "print(predictions_array.shape)"
   ]
  },
  {
   "cell_type": "code",
   "execution_count": 54,
   "id": "15399358",
   "metadata": {},
   "outputs": [
    {
     "data": {
      "text/plain": [
       "array([0.05825063, 0.04520085, 0.0379552 , ..., 0.01467592, 0.0270674 ,\n",
       "       0.03558293])"
      ]
     },
     "execution_count": 54,
     "metadata": {},
     "output_type": "execute_result"
    }
   ],
   "source": [
    "predictions_array"
   ]
  },
  {
   "cell_type": "code",
   "execution_count": 55,
   "id": "fbc04f5c",
   "metadata": {},
   "outputs": [
    {
     "name": "stdout",
     "output_type": "stream",
     "text": [
      "\n",
      "Overall Classification Rate: 89.9%\n",
      "\n",
      "Predicted      No Purchase    Purchase\n",
      "Observed\n",
      "No Purchase    91% (10738)    34% (198)\n",
      "Purchase        9% (1045)     66% (376) \n",
      "\n"
     ]
    }
   ],
   "source": [
    "cm = pd.crosstab(index=test_data['y_yes'], columns=np.round(predictions_array), rownames=['Observed'], colnames=['Predicted'])\n",
    "tn = cm.iloc[0,0]; fn = cm.iloc[1,0]; tp = cm.iloc[1,1]; fp = cm.iloc[0,1]; p = (tp+tn)/(tp+tn+fp+fn)*100\n",
    "print(\"\\n{0:<20}{1:<4.1f}%\\n\".format(\"Overall Classification Rate: \", p))\n",
    "print(\"{0:<15}{1:<15}{2:>8}\".format(\"Predicted\", \"No Purchase\", \"Purchase\"))\n",
    "print(\"Observed\")\n",
    "print(\"{0:<15}{1:<2.0f}% ({2:<}){3:>6.0f}% ({4:<})\".format(\"No Purchase\", tn/(tn+fn)*100,tn, fp/(tp+fp)*100, fp))\n",
    "print(\"{0:<16}{1:<1.0f}% ({2:<}){3:>7.0f}% ({4:<}) \\n\".format(\"Purchase\", fn/(tn+fn)*100,fn, tp/(tp+fp)*100, tp))"
   ]
  },
  {
   "cell_type": "code",
   "execution_count": null,
   "id": "7e9b2e26",
   "metadata": {},
   "outputs": [],
   "source": []
  }
 ],
 "metadata": {
  "kernelspec": {
   "display_name": "conda_python3",
   "language": "python",
   "name": "conda_python3"
  },
  "language_info": {
   "codemirror_mode": {
    "name": "ipython",
    "version": 3
   },
   "file_extension": ".py",
   "mimetype": "text/x-python",
   "name": "python",
   "nbconvert_exporter": "python",
   "pygments_lexer": "ipython3",
   "version": "3.10.13"
  }
 },
 "nbformat": 4,
 "nbformat_minor": 5
}
